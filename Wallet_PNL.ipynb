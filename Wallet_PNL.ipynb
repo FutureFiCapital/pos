{
 "cells": [
  {
   "cell_type": "markdown",
   "id": "68197826",
   "metadata": {
    "toc": true
   },
   "source": [
    "<h1>Table of Contents<span class=\"tocSkip\"></span></h1>\n",
    "<div class=\"toc\"><ul class=\"toc-item\"><li><span><a href=\"#Config\" data-toc-modified-id=\"Config-1\"><span class=\"toc-item-num\">1&nbsp;&nbsp;</span>Config</a></span><ul class=\"toc-item\"><li><span><a href=\"#Hide-widget\" data-toc-modified-id=\"Hide-widget-1.1\"><span class=\"toc-item-num\">1.1&nbsp;&nbsp;</span>Hide widget</a></span></li><li><span><a href=\"#Rest\" data-toc-modified-id=\"Rest-1.2\"><span class=\"toc-item-num\">1.2&nbsp;&nbsp;</span>Rest</a></span></li></ul></li><li><span><a href=\"#Constants\" data-toc-modified-id=\"Constants-2\"><span class=\"toc-item-num\">2&nbsp;&nbsp;</span>Constants</a></span></li><li><span><a href=\"#Zapper-positions\" data-toc-modified-id=\"Zapper-positions-3\"><span class=\"toc-item-num\">3&nbsp;&nbsp;</span>Zapper positions</a></span><ul class=\"toc-item\"><li><span><a href=\"#Looping-through-protocols-(gets-you-claimable-tokens-but-not-staked)\" data-toc-modified-id=\"Looping-through-protocols-(gets-you-claimable-tokens-but-not-staked)-3.1\"><span class=\"toc-item-num\">3.1&nbsp;&nbsp;</span>Looping through protocols (gets you claimable tokens but not staked)</a></span></li><li><span><a href=\"#Adding-erc20s-not-in-a-specific-protocol\" data-toc-modified-id=\"Adding-erc20s-not-in-a-specific-protocol-3.2\"><span class=\"toc-item-num\">3.2&nbsp;&nbsp;</span>Adding erc20s not in a specific protocol</a></span></li><li><span><a href=\"#Getting-Zapper-Staked-and-Staking-rewards\" data-toc-modified-id=\"Getting-Zapper-Staked-and-Staking-rewards-3.3\"><span class=\"toc-item-num\">3.3&nbsp;&nbsp;</span>Getting Zapper Staked and Staking rewards</a></span></li></ul></li><li><span><a href=\"#Transactions\" data-toc-modified-id=\"Transactions-4\"><span class=\"toc-item-num\">4&nbsp;&nbsp;</span>Transactions</a></span><ul class=\"toc-item\"><li><span><a href=\"#Unused-code\" data-toc-modified-id=\"Unused-code-4.1\"><span class=\"toc-item-num\">4.1&nbsp;&nbsp;</span>Unused code</a></span><ul class=\"toc-item\"><li><span><a href=\"#Getting-Transaction-History\" data-toc-modified-id=\"Getting-Transaction-History-4.1.1\"><span class=\"toc-item-num\">4.1.1&nbsp;&nbsp;</span>Getting Transaction History</a></span></li><li><span><a href=\"#Adding-in-polygon\" data-toc-modified-id=\"Adding-in-polygon-4.1.2\"><span class=\"toc-item-num\">4.1.2&nbsp;&nbsp;</span>Adding in polygon</a></span></li></ul></li><li><span><a href=\"#Transaction-history\" data-toc-modified-id=\"Transaction-history-4.2\"><span class=\"toc-item-num\">4.2&nbsp;&nbsp;</span>Transaction history</a></span></li><li><span><a href=\"#Taking-out-avalanche-bridge-transactions\" data-toc-modified-id=\"Taking-out-avalanche-bridge-transactions-4.3\"><span class=\"toc-item-num\">4.3&nbsp;&nbsp;</span>Taking out avalanche bridge transactions</a></span></li><li><span><a href=\"#Need-support-for-xdai-(currently-hacked-number)\" data-toc-modified-id=\"Need-support-for-xdai-(currently-hacked-number)-4.4\"><span class=\"toc-item-num\">4.4&nbsp;&nbsp;</span>Need support for xdai (currently hacked number)</a></span></li><li><span><a href=\"#Calculate-Dollar-days\" data-toc-modified-id=\"Calculate-Dollar-days-4.5\"><span class=\"toc-item-num\">4.5&nbsp;&nbsp;</span>Calculate Dollar days</a></span></li><li><span><a href=\"#Calculate-position-pnl-to-do(would-like-to-denoise-pnl-to-when-we're-winning-to-just-position)\" data-toc-modified-id=\"Calculate-position-pnl-to-do(would-like-to-denoise-pnl-to-when-we're-winning-to-just-position)-4.6\"><span class=\"toc-item-num\">4.6&nbsp;&nbsp;</span>Calculate position pnl to do(would like to denoise pnl to when we're winning to just position)</a></span></li></ul></li><li><span><a href=\"#Adding-in-missing-from-debank\" data-toc-modified-id=\"Adding-in-missing-from-debank-5\"><span class=\"toc-item-num\">5&nbsp;&nbsp;</span>Adding in missing from debank</a></span><ul class=\"toc-item\"><li><span><a href=\"#Pulling-in-debank-erc20s\" data-toc-modified-id=\"Pulling-in-debank-erc20s-5.1\"><span class=\"toc-item-num\">5.1&nbsp;&nbsp;</span>Pulling in debank erc20s</a></span></li><li><span><a href=\"#Fixing-matic-token-amounts\" data-toc-modified-id=\"Fixing-matic-token-amounts-5.2\"><span class=\"toc-item-num\">5.2&nbsp;&nbsp;</span>Fixing matic token amounts</a></span></li><li><span><a href=\"#Perps\" data-toc-modified-id=\"Perps-5.3\"><span class=\"toc-item-num\">5.3&nbsp;&nbsp;</span>Perps</a></span></li><li><span><a href=\"#Merging-and-Renaming\" data-toc-modified-id=\"Merging-and-Renaming-5.4\"><span class=\"toc-item-num\">5.4&nbsp;&nbsp;</span>Merging and Renaming</a></span></li></ul></li><li><span><a href=\"#Adding-in-things-that-neither-zapper/debank-have\" data-toc-modified-id=\"Adding-in-things-that-neither-zapper/debank-have-6\"><span class=\"toc-item-num\">6&nbsp;&nbsp;</span>Adding in things that neither zapper/debank have</a></span><ul class=\"toc-item\"><li><span><a href=\"#dYdX\" data-toc-modified-id=\"dYdX-6.1\"><span class=\"toc-item-num\">6.1&nbsp;&nbsp;</span>dYdX</a></span></li></ul></li><li><span><a href=\"#Fixing-prices\" data-toc-modified-id=\"Fixing-prices-7\"><span class=\"toc-item-num\">7&nbsp;&nbsp;</span>Fixing prices</a></span></li><li><span><a href=\"#Formatting\" data-toc-modified-id=\"Formatting-8\"><span class=\"toc-item-num\">8&nbsp;&nbsp;</span>Formatting</a></span></li><li><span><a href=\"#Output\" data-toc-modified-id=\"Output-9\"><span class=\"toc-item-num\">9&nbsp;&nbsp;</span>Output</a></span><ul class=\"toc-item\"><li><span><a href=\"#Raw\" data-toc-modified-id=\"Raw-9.1\"><span class=\"toc-item-num\">9.1&nbsp;&nbsp;</span>Raw</a></span></li><li><span><a href=\"#Deltas\" data-toc-modified-id=\"Deltas-9.2\"><span class=\"toc-item-num\">9.2&nbsp;&nbsp;</span>Deltas</a></span></li><li><span><a href=\"#Stats\" data-toc-modified-id=\"Stats-9.3\"><span class=\"toc-item-num\">9.3&nbsp;&nbsp;</span>Stats</a></span></li></ul></li></ul></div>"
   ]
  },
  {
   "cell_type": "code",
   "execution_count": 1,
   "id": "cb3fe415",
   "metadata": {
    "ExecuteTime": {
     "end_time": "2021-09-19T14:30:02.682781Z",
     "start_time": "2021-09-19T14:29:59.492206Z"
    }
   },
   "outputs": [
    {
     "data": {
      "application/javascript": [
       "require(\"notebook/js/notebook\").Notebook.prototype.scroll_to_bottom = function () {}\n"
      ],
      "text/plain": [
       "<IPython.core.display.Javascript object>"
      ]
     },
     "metadata": {},
     "output_type": "display_data"
    }
   ],
   "source": [
    "%run \"./Common.ipynb\""
   ]
  },
  {
   "cell_type": "markdown",
   "id": "89d244d5",
   "metadata": {},
   "source": [
    "# Zapper positions "
   ]
  },
  {
   "cell_type": "markdown",
   "id": "cb1f0704",
   "metadata": {},
   "source": [
    "## Looping through protocols (gets you claimable tokens but not staked)"
   ]
  },
  {
   "cell_type": "code",
   "execution_count": null,
   "id": "f181375f",
   "metadata": {
    "ExecuteTime": {
     "end_time": "2021-09-19T14:30:03.580515Z",
     "start_time": "2021-09-19T14:30:03.580506Z"
    }
   },
   "outputs": [],
   "source": [
    "zapper_protocol_balances=get_http(f\"https://api.zapper.fi/v1/protocols/balances/supported?addresses%5B%5D={ADDRESS}&api_key=96e0cc51-a62e-42ca-acee-910ea7d2a241\")"
   ]
  },
  {
   "cell_type": "code",
   "execution_count": null,
   "id": "fada9572",
   "metadata": {
    "ExecuteTime": {
     "end_time": "2021-09-19T14:30:03.582771Z",
     "start_time": "2021-09-19T14:30:03.582758Z"
    }
   },
   "outputs": [],
   "source": [
    "zapper_protocols=json_normalize(zapper_protocol_balances)\n",
    "protocols=[]\n",
    "for i in zapper_protocols['protocols']:\n",
    "    for k in i:\n",
    "        protocols+=[k['protocol']]\n",
    "ignore = [\"esd\",\"nft\",\"tokens\",None] #Some extra fields in here  \n",
    "protocols = [p for p in protocols if p not in ignore]"
   ]
  },
  {
   "cell_type": "raw",
   "id": "acd1db5e",
   "metadata": {},
   "source": [
    "#with pooler(3) as p:    \n",
    "#    results = list(tq(p.imap(get_price_data, unique_ids), total=len(unique_ids)))   \n",
    "balance_sheets={}\n",
    "col_kind = [\"assets\",\"meta\"]\n",
    "                \n",
    "for chain in ZAPPER_CHAINS:\n",
    "    def get_balance_sheet_items(protoco):\n",
    "        try:\n",
    "            balance=get_http(f\"https://api.zapper.fi/v1/protocols/{p}/balances?addresses%5B%5D={ADDRESS}&network={chain}&api_key=96e0cc51-a62e-42ca-acee-910ea7d2a241\")[ADDRESS.lower()]['products'][0]\n",
    "            return balance\n",
    "        except:\n",
    "            return None    \n",
    "    with pooler(10) as p:    \n",
    "        results = list(tq(p.imap(get_balance_sheet_items, protocols), total=len(protocols)))   "
   ]
  },
  {
   "cell_type": "code",
   "execution_count": null,
   "id": "bd2f35c3",
   "metadata": {
    "ExecuteTime": {
     "end_time": "2021-09-19T14:30:03.583718Z",
     "start_time": "2021-09-19T14:30:03.583705Z"
    }
   },
   "outputs": [],
   "source": [
    "balance_sheets={}\n",
    "col_kind = [\"assets\",\"meta\"]\n",
    "for col in col_kind:\n",
    "    balance_sheets[col]=pd.DataFrame([])\n",
    "for chain in ZAPPER_CHAINS:\n",
    "    for p in protocols:\n",
    "        try:\n",
    "            balance=get_http(f\"https://api.zapper.fi/v1/protocols/{p}/balances?addresses%5B%5D={ADDRESS}&network={chain}&api_key=96e0cc51-a62e-42ca-acee-910ea7d2a241\")[ADDRESS.lower()]['products'][0]\n",
    "            name=balance['label']\n",
    "            for kind in ['assets','meta']:        \n",
    "                tmp_df=pd.DataFrame(balance[kind])\n",
    "                tmp_df[\"protocol\"]=p\n",
    "                balance_sheets[kind]=balance_sheets[kind].append(tmp_df)\n",
    "        except:\n",
    "            pass"
   ]
  },
  {
   "cell_type": "code",
   "execution_count": null,
   "id": "67ea1a3e",
   "metadata": {
    "ExecuteTime": {
     "end_time": "2021-09-19T14:30:03.584503Z",
     "start_time": "2021-09-19T14:30:03.584494Z"
    }
   },
   "outputs": [],
   "source": [
    "df=balance_sheets['assets']\n",
    "meta=balance_sheets['meta']"
   ]
  },
  {
   "cell_type": "code",
   "execution_count": null,
   "id": "f1d6288e",
   "metadata": {
    "ExecuteTime": {
     "end_time": "2021-09-19T14:30:03.585359Z",
     "start_time": "2021-09-19T14:30:03.585350Z"
    }
   },
   "outputs": [],
   "source": [
    "#The handling of debts has a weird sign convention\n",
    "if \"category\" in df.columns:\n",
    "    debts=(df[\"category\"]==\"debt\")\n",
    "    df.loc[debts,\"price\"]*=-1\n",
    "    df.loc[debts,\"balance\"]*=-1"
   ]
  },
  {
   "cell_type": "markdown",
   "id": "65753e96",
   "metadata": {},
   "source": [
    "## Adding erc20s not in a specific protocol"
   ]
  },
  {
   "cell_type": "code",
   "execution_count": null,
   "id": "374dcbb2",
   "metadata": {
    "ExecuteTime": {
     "end_time": "2021-09-19T14:30:03.586178Z",
     "start_time": "2021-09-19T14:30:03.586169Z"
    }
   },
   "outputs": [],
   "source": [
    "token_balance_df=pd.DataFrame([])\n",
    "for chain in ZAPPER_CHAINS:\n",
    "    try:\n",
    "        tmp=get_http(f\"https://api.zapper.fi/v1/protocols/tokens/balances?addresses%5B%5D={ADDRESS}&network={chain}&api_key=96e0cc51-a62e-42ca-acee-910ea7d2a241\")[ADDRESS.lower()]['products'][0]\n",
    "        token_balance_df=token_balance_df.append(pd.DataFrame(tmp[\"assets\"]))\n",
    "        meta=pd.DataFrame(tmp[\"meta\"])\n",
    "        token_balance_df[\"protocol\"]=None\n",
    "    except:\n",
    "        pass            "
   ]
  },
  {
   "cell_type": "code",
   "execution_count": null,
   "id": "00b95414",
   "metadata": {
    "ExecuteTime": {
     "end_time": "2021-09-19T14:30:03.587022Z",
     "start_time": "2021-09-19T14:30:03.587013Z"
    }
   },
   "outputs": [],
   "source": [
    "#Making sure that all of our ids that we're removing are already in the df (collected from prtocol balances)\n",
    "should_already_be_in=token_balance_df[token_balance_df[\"hide\"]==True]\n",
    "for _,i in should_already_be_in.iterrows():\n",
    "    #We do the price thing because sometimes staked assets will ahve a different id\n",
    "    assert i[\"address\"] in df[\"address\"].unique() or i[\"price\"] in df[\"price\"].unique() or i[\"label\"]==\"stkAAVE\" #staked aave has different symbology and is already in"
   ]
  },
  {
   "cell_type": "code",
   "execution_count": null,
   "id": "cd13a30c",
   "metadata": {
    "ExecuteTime": {
     "end_time": "2021-09-19T14:30:03.587929Z",
     "start_time": "2021-09-19T14:30:03.587918Z"
    }
   },
   "outputs": [],
   "source": [
    "df=df.append(token_balance_df[token_balance_df[\"hide\"]==False])"
   ]
  },
  {
   "cell_type": "code",
   "execution_count": null,
   "id": "4a02efa9",
   "metadata": {
    "ExecuteTime": {
     "end_time": "2021-09-19T14:30:03.588659Z",
     "start_time": "2021-09-19T14:30:03.588646Z"
    }
   },
   "outputs": [],
   "source": [
    "df[\"price\"]=df[\"balanceUSD\"]/df[\"balance\"] #Price is misreported"
   ]
  },
  {
   "cell_type": "markdown",
   "id": "40c02c1b",
   "metadata": {},
   "source": [
    "## Getting Zapper Staked and Staking rewards"
   ]
  },
  {
   "cell_type": "markdown",
   "id": "4c083978",
   "metadata": {},
   "source": [
    "def get_balance(staked_type):\n",
    "    return get_http(f'https://api.zapper.fi/v1/staked-balance/{staked_type}?addresses%5B%5D={ADDRESS}&network={protocol}&api_key=96e0cc51-a62e-42ca-acee-910ea7d2a241')[ADDRESS.lower()]\n",
    "staked_assets=pd.DataFrame([])\n",
    "stake_and_rewards=pd.DataFrame([])\n",
    "for protocol in ZAPPER_CHAINS:\n",
    "    for staked_type in ZAPPER_STAKED_TYPES:\n",
    "         #We could possibly get a bit more info here\n",
    "        staked=call_fun_with_retries(get_balance,staked_type,0)\n",
    "        \n",
    "        for stake in staked:\n",
    "            tokens=stake.pop(\"tokens\")\n",
    "            rewards=stake.pop(\"rewardTokens\")\n",
    "            share=stake[\"share\"]\n",
    "            try:\n",
    "                tokens=tokens[0][\"tokens\"]#Bypoassing curve lp tokens to get underlieres\n",
    "            except:\n",
    "                tokens=pd.DataFrame([]) #we don't want the lp token holdings\n",
    "            tokens=pd.DataFrame(tokens)\n",
    "            rewards=pd.DataFrame(rewards)\n",
    "            stake=pd.DataFrame(stake,index=[\"0\"])\n",
    "            stake=stake.rename({'pricePerToken':'price'},axis=1)\n",
    "            stake[\"type\"]=\"staking\"\n",
    "            stake[\"category\"]=\"staked\"\n",
    "            rewards[\"type\"]=\"staking\"\n",
    "            rewards[\"category\"]=\"rewards\"    \n",
    "            for tmp_df in [stake,rewards]:\n",
    "                stake_and_rewards=stake_and_rewards.append(tmp_df)        \n",
    "            staked_assets=staked_assets.append(stake)            "
   ]
  },
  {
   "cell_type": "code",
   "execution_count": null,
   "id": "61cec0a7",
   "metadata": {
    "ExecuteTime": {
     "end_time": "2021-09-19T14:30:03.589468Z",
     "start_time": "2021-09-19T14:30:03.589458Z"
    }
   },
   "outputs": [],
   "source": [
    "def get_balance(_input):\n",
    "    staked_type,protocol=_input\n",
    "    return get_http(f'https://api.zapper.fi/v1/staked-balance/{staked_type}?addresses%5B%5D={ADDRESS}&network={protocol}&api_key=96e0cc51-a62e-42ca-acee-910ea7d2a241')[ADDRESS.lower()]\n",
    "def get_protocol_stake(protocol):\n",
    "    global staked\n",
    "    stake_and_rewards=pd.DataFrame([])\n",
    "    for staked_type in ZAPPER_STAKED_TYPES:\n",
    "     #We could possibly get a bit more info here\n",
    "        staked=call_fun_with_retries(get_balance,(staked_type,protocol),0)        \n",
    "        for stake in staked:\n",
    "            tokens=stake.pop(\"tokens\")\n",
    "            rewards=stake.pop(\"rewardTokens\")\n",
    "            share=stake[\"share\"]\n",
    "            try:\n",
    "                tokens=tokens[0][\"tokens\"]#Bypoassing curve lp tokens to get underlieres\n",
    "            except:                \n",
    "                tokens=pd.DataFrame([]) #we don't want the lp token holdings\n",
    "            tokens=pd.DataFrame(tokens)\n",
    "            rewards=pd.DataFrame(rewards)\n",
    "            stake=pd.DataFrame(stake,index=[\"0\"])\n",
    "            stake=stake.rename({'pricePerToken':'price'},axis=1)\n",
    "            stake[\"type\"]=\"staking\"\n",
    "            stake[\"category\"]=\"staked\"\n",
    "            rewards[\"type\"]=\"staking\"\n",
    "            rewards[\"category\"]=\"rewards\"    \n",
    "            for tmp_df in [stake,rewards]:\n",
    "                stake_and_rewards=stake_and_rewards.append(tmp_df)      \n",
    "    return stake_and_rewards\n",
    "   \n",
    "with pooler(3) as p:\n",
    "    stake_and_rewards=list(tq(p.imap(get_protocol_stake, ZAPPER_CHAINS), total=len(ZAPPER_CHAINS)))             \n",
    "stake_and_rewards=pd.concat(stake_and_rewards)\n",
    "df=df.append(stake_and_rewards)"
   ]
  },
  {
   "cell_type": "markdown",
   "id": "727c768c",
   "metadata": {},
   "source": [
    "# Transactions "
   ]
  },
  {
   "cell_type": "markdown",
   "id": "4503b608",
   "metadata": {
    "heading_collapsed": true
   },
   "source": [
    "## Unused code"
   ]
  },
  {
   "cell_type": "markdown",
   "id": "dd9a6963",
   "metadata": {
    "hidden": true
   },
   "source": [
    "tmp_df=pd.concat(tmp_df)\n",
    "log_events=expand_df_columns(pd.DataFrame(sum(list(tmp_df[\"log_events\"]),[])))\n",
    "missing_cols=[c for c in tmp_df if c not in log_events if c not in [\"log_events\"]]\n",
    "on=\"block_height\"\n",
    "log_events = log_events.merge(tmp_df[[on]+missing_cols],on=on,how=\"left\")"
   ]
  },
  {
   "cell_type": "markdown",
   "id": "e4676781",
   "metadata": {
    "hidden": true
   },
   "source": [
    "missing_cols=[c for c in tmp_df if c not in log_events if c not in [\"log_events\"]]"
   ]
  },
  {
   "cell_type": "markdown",
   "id": "f81c7554",
   "metadata": {
    "hidden": true
   },
   "source": [
    "on=\"block_height\"\n",
    "log_events = log_events.merge(tmp_df[[on]+missing_cols],on=on,how=\"left\")"
   ]
  },
  {
   "cell_type": "markdown",
   "id": "d7bf0478",
   "metadata": {
    "hidden": true
   },
   "source": [
    "log_events"
   ]
  },
  {
   "cell_type": "markdown",
   "id": "94d18c7e",
   "metadata": {
    "hidden": true
   },
   "source": [
    "log_events[\"\"]"
   ]
  },
  {
   "cell_type": "markdown",
   "id": "73e20440",
   "metadata": {
    "hidden": true
   },
   "source": [
    "def handle_params(x):\n",
    "    if x[\"name_decoded\"]==\"Transfer\":\n",
    "        tmp_dict = [{i['name']:i['value'] for i in x[\"params_decoded\"]}]\n",
    "        tmp_dict[\"token\"]==\n",
    "    if x[\"name_decoded\"]==\"Swap\":\n",
    "        \n",
    "                \n",
    "        \n",
    "        \n",
    "    "
   ]
  },
  {
   "cell_type": "markdown",
   "id": "17db0340",
   "metadata": {
    "hidden": true
   },
   "source": [
    "def get_length(x):\n",
    "    try:\n",
    "        return len(x)\n",
    "    except:\n",
    "        pass\n",
    "log_events[\"num_params\"]=log_events[\"params_decoded\"].apply(get_length)"
   ]
  },
  {
   "cell_type": "markdown",
   "id": "a9975570",
   "metadata": {
    "hidden": true
   },
   "source": [
    "log_events[[\"name_decoded\",\"num_params\"]]"
   ]
  },
  {
   "cell_type": "markdown",
   "id": "c3e02fc0",
   "metadata": {
    "hidden": true
   },
   "source": [
    "expand_df_columns(pd.DataFrame(sum(list(tmp_df[\"log_events\"]),[])))"
   ]
  },
  {
   "cell_type": "markdown",
   "id": "a610d462",
   "metadata": {
    "hidden": true
   },
   "source": [
    "has_more"
   ]
  },
  {
   "cell_type": "markdown",
   "id": "966ec80c",
   "metadata": {
    "hidden": true
   },
   "source": [
    "%run Common.ipynb"
   ]
  },
  {
   "cell_type": "markdown",
   "id": "86736b1b",
   "metadata": {
    "hidden": true
   },
   "source": [
    "tmp_result[\"items\"]"
   ]
  },
  {
   "cell_type": "markdown",
   "id": "6ad385cd",
   "metadata": {
    "hidden": true
   },
   "source": [
    "covalent_query(f\"v1/{covalent_protocol_map[protocol]}/address/{ADDRESS}/transactions_v2\")[\"data\"]"
   ]
  },
  {
   "cell_type": "markdown",
   "id": "f5b50e18",
   "metadata": {
    "hidden": true
   },
   "source": [
    "%run Common.ipynb"
   ]
  },
  {
   "cell_type": "markdown",
   "id": "02a91606",
   "metadata": {
    "hidden": true
   },
   "source": [
    "tmp_df=pd.concat(tmp_df)\n",
    "tmp_df"
   ]
  },
  {
   "cell_type": "markdown",
   "id": "5873d374",
   "metadata": {
    "hidden": true
   },
   "source": [
    "%run Common.ipynb"
   ]
  },
  {
   "cell_type": "markdown",
   "id": "3cd2172f",
   "metadata": {
    "hidden": true
   },
   "source": [
    "get_http(\"https://api.covalenthq.com/v1/43114/address/0xFf684591A8308A9e2D01B311dE4F225Ba1AD2FFa/transactions_v2/?key=ckey_51898834a5fe49e193a27211f39\")"
   ]
  },
  {
   "cell_type": "markdown",
   "id": "01d01bba",
   "metadata": {
    "hidden": true
   },
   "source": [
    "### Getting Transaction History"
   ]
  },
  {
   "cell_type": "markdown",
   "id": "3cd09b4c",
   "metadata": {
    "hidden": true
   },
   "source": [
    "pd.set_option('display.max_columns', 500)\n",
    "transactions=pd.DataFrame([])\n",
    "def get_transactions(protocol):\n",
    "    http_response=get_http(f\"https://api.zapper.fi/v1/transactions?address={ADDRESS}&network={protocol}&api_key=96e0cc51-a62e-42ca-acee-910ea7d2a241\")\n",
    "    return pd.DataFrame(http_response['data'])\n",
    "#We do retries because this doesn't always return with good value, but don't want to skip over\n",
    "for protocol in ZAPPER_TRANSACTION_CHAINS:\n",
    "    transactions=transactions.append(call_fun_with_retries(get_transactions,protocol,0))"
   ]
  },
  {
   "cell_type": "markdown",
   "id": "bceb6e39",
   "metadata": {
    "hidden": true
   },
   "source": [
    "transactions[\"symbol\"]=transactions[\"subTransactions\"].apply(lambda x:x[0][\"symbol\"])"
   ]
  },
  {
   "cell_type": "markdown",
   "id": "7646697d",
   "metadata": {
    "hidden": true
   },
   "source": [
    "### Adding in polygon"
   ]
  },
  {
   "cell_type": "markdown",
   "id": "d0653758",
   "metadata": {
    "hidden": true
   },
   "source": [
    "We need the destination account for polygon which we get form there API\n",
    "POLYGON_API=\"1XQ3HQ969YEZ4Y5CD4DWPUS7CJNX5Z54FB\"\n",
    "w3 = Web3(Web3.HTTPProvider(\"https://polygon-mainnet.infura.io/v3/5e13c92df09c4bc6a9806323fad8fc30\"))\n",
    "polyscan_transactions=pd.DataFrame(get_http(f\"https://api.polygonscan.com/api?module=account&action=txlist&address={ADDRESS}&page=1&offset=100&sort=asc&apikey={POLYGON_API}\")['result']).rename({\"input\":\"polyscan_input\"},axis=1)\n",
    "if polyscan_transactions.shape[0]>0:\n",
    "    polyscan_transactions[\"polyscan_input\"]=\"0x\" + polyscan_transactions[\"polyscan_input\"].str[34:74]\n",
    "    transactions=transactions.merge(polyscan_transactions[['hash','polyscan_input']],on='hash',how='left') #polyscan input has the the destination accountb\n",
    "    transactions[\"destination\"]=transactions[\"polyscan_input\"].fillna(transactions[\"destination\"])"
   ]
  },
  {
   "cell_type": "markdown",
   "id": "e99159ad",
   "metadata": {
    "hidden": true
   },
   "source": [
    "transactions[\"time_ago\"]=(datetime.now() - transactions[\"timeStamp\"].apply(lambda x:datetime.fromtimestamp(int(x))))"
   ]
  },
  {
   "cell_type": "markdown",
   "id": "e898f65a",
   "metadata": {
    "hidden": true
   },
   "source": [
    "AVALANCHE_BRIDGE_DESTINATION=\"0xa0b86991c6218b36c1d19d4a2e9eb0ce3606eb48\"\n",
    "AVALANCHE_BRIDGE_SOURCE=\"0xe78388b4ce79068e89bf8aa7f218ef6b9ab0e9d0\"\n",
    "transfers=transfers[(transfers[\"destination\"]!=AVALANCHE_BRIDGE_DESTINATION)&(transfers[\"from\"]!=AVALANCHE_BRIDGE_SOURCE)]"
   ]
  },
  {
   "cell_type": "raw",
   "id": "c41e13bc",
   "metadata": {
    "hidden": true
   },
   "source": [
    "# Take out dydx transfers\n",
    "transfers=transfers.loc[(~transfers[\"from_address\"].apply(lambda x:x in [\"0xf42ed7184f3bdd07b0456952f67695683afd9044\"])) & (~transfers[\"to_address\"].apply(lambda x:x in [\"0xd54f502e184b6b739d7d27a6410a67dc462d69c8\"]))]\n",
    "# Take out liquidation\n",
    "transfers=transfers[transfers[\"block_height\"]!=13127554]\n",
    "# Take out traderjoe\n",
    "transfers=transfers.loc[(~transfers[\"from_address\"].apply(lambda x:x in [\"0xa389f9430876455c36478deea9769b7ca4e3ddb1\"])) & (~transfers[\"to_address\"].apply(lambda x:x in [\"0xa389f9430876455c36478deea9769b7ca4e3ddb1\"]))]"
   ]
  },
  {
   "cell_type": "markdown",
   "id": "ec7b89d7",
   "metadata": {},
   "source": [
    "## Transaction history"
   ]
  },
  {
   "cell_type": "code",
   "execution_count": null,
   "id": "ca42c845",
   "metadata": {
    "ExecuteTime": {
     "end_time": "2021-09-19T14:30:03.590403Z",
     "start_time": "2021-09-19T14:30:03.590394Z"
    }
   },
   "outputs": [],
   "source": [
    "transfers=[]\n",
    "covalent_protocols=[\"ethereum\",\"avalanche\",\"polygon\"]\n",
    "for protocol in covalent_protocols:\n",
    "    has_more= True\n",
    "    page=0\n",
    "    while has_more:\n",
    "        tmp_result=covalent_query(f\"v1/{covalent_protocol_map[protocol]}/address/{ADDRESS}/transactions_v2/\",[f\"page-number={page}\"])[\"data\"]\n",
    "        protocol_df=pd.DataFrame(tmp_result[\"items\"])\n",
    "        protocol_df[\"protocol\"]=protocol\n",
    "        transfers+=[protocol_df]\n",
    "        has_more=tmp_result[\"pagination\"][\"has_more\"]\n",
    "        page+=1\n",
    "transfers=pd.concat(transfers)"
   ]
  },
  {
   "cell_type": "code",
   "execution_count": null,
   "id": "58f5aaf8",
   "metadata": {
    "ExecuteTime": {
     "end_time": "2021-09-19T14:30:03.591208Z",
     "start_time": "2021-09-19T14:30:03.591198Z"
    }
   },
   "outputs": [],
   "source": [
    "def get_last_el(x):\n",
    "    if len(x)>0:\n",
    "        return [x[-1]]\n",
    "    else:\n",
    "        return x\n",
    "transfers.loc[transfers[\"protocol\"]==\"polygon\",\"log_events\"]=transfers.loc[transfers[\"protocol\"]==\"polygon\",\"log_events\"].apply(get_last_el)"
   ]
  },
  {
   "cell_type": "code",
   "execution_count": null,
   "id": "74568329",
   "metadata": {
    "ExecuteTime": {
     "end_time": "2021-09-19T14:30:03.592033Z",
     "start_time": "2021-09-19T14:30:03.592023Z"
    }
   },
   "outputs": [],
   "source": [
    "transfers = expand_df_columns(expand_df_columns(transfers.explode(\"log_events\")))"
   ]
  },
  {
   "cell_type": "code",
   "execution_count": null,
   "id": "214092d7",
   "metadata": {
    "ExecuteTime": {
     "end_time": "2021-09-19T14:30:03.592874Z",
     "start_time": "2021-09-19T14:30:03.592864Z"
    }
   },
   "outputs": [],
   "source": [
    "transfers=transfers.rename({\"sender_contract_ticker_symbol_log_events\":\"symbol\"},axis=1)"
   ]
  },
  {
   "cell_type": "code",
   "execution_count": null,
   "id": "eeec6432",
   "metadata": {
    "ExecuteTime": {
     "end_time": "2021-09-19T14:30:03.593571Z",
     "start_time": "2021-09-19T14:30:03.593562Z"
    }
   },
   "outputs": [],
   "source": [
    "transfers[\"value\"]=transfers[\"value\"].astype('double')/(10**18)"
   ]
  },
  {
   "cell_type": "code",
   "execution_count": null,
   "id": "3e798d34",
   "metadata": {
    "ExecuteTime": {
     "end_time": "2021-09-19T14:30:03.594289Z",
     "start_time": "2021-09-19T14:30:03.594280Z"
    }
   },
   "outputs": [],
   "source": [
    "transfers=transfers[(transfers[\"name_decoded_log_events\"]==\"Transfer\")|(transfers[\"value\"]>0)]"
   ]
  },
  {
   "cell_type": "code",
   "execution_count": null,
   "id": "04fd6a7d",
   "metadata": {
    "ExecuteTime": {
     "end_time": "2021-09-19T14:30:03.595168Z",
     "start_time": "2021-09-19T14:30:03.595158Z"
    }
   },
   "outputs": [],
   "source": [
    "def get_field(_dict,expected_name):\n",
    "    if _dict[\"name\"]==expected_name:\n",
    "        return _dict[\"value\"]\n",
    "    else:\n",
    "        raise ValueError(\"unknown field type\")    \n",
    "no_transaction_val=transfers[\"value\"].apply(lambda x:math.isclose(x,0))        \n",
    "for i,(col,field) in enumerate([(\"from_address\",\"from\"),(\"to_address\",\"to\"),(\"amount\",\"value\")]):\n",
    "    transfers.loc[no_transaction_val,col]=transfers.loc[no_transaction_val,\"params_decoded_log_events\"].apply(lambda x:get_field(x[i],field))  "
   ]
  },
  {
   "cell_type": "code",
   "execution_count": null,
   "id": "7f29fc35",
   "metadata": {
    "ExecuteTime": {
     "end_time": "2021-09-19T14:30:03.595885Z",
     "start_time": "2021-09-19T14:30:03.595875Z"
    }
   },
   "outputs": [],
   "source": [
    "transfers[\"amount\"]=transfers[\"amount\"].astype('double')/(10**transfers[\"sender_contract_decimals_log_events\"])\n",
    "transfers.loc[~no_transaction_val,\"amount\"]=transfers.loc[~no_transaction_val,\"value\"]\n",
    "transfers.loc[~no_transaction_val,\"symbol\"]=transfers.loc[~no_transaction_val,\"protocol\"].apply(lambda x:CHAIN_TO_CURRENCY[x])"
   ]
  },
  {
   "cell_type": "code",
   "execution_count": null,
   "id": "6deb403e",
   "metadata": {
    "ExecuteTime": {
     "end_time": "2021-09-19T14:30:03.596768Z",
     "start_time": "2021-09-19T14:30:03.596757Z"
    }
   },
   "outputs": [],
   "source": [
    "transfers[\"symbol\"]=transfers[\"symbol\"].str.replace(\"WETH\",\"ETH\")"
   ]
  },
  {
   "cell_type": "code",
   "execution_count": null,
   "id": "638b89f7",
   "metadata": {
    "ExecuteTime": {
     "end_time": "2021-09-19T14:30:03.597651Z",
     "start_time": "2021-09-19T14:30:03.597642Z"
    }
   },
   "outputs": [],
   "source": [
    "def sent_to_another_my_account(x):\n",
    "    return (account_is_mine(x)) & (x.lower()!=ADDRESS.lower())"
   ]
  },
  {
   "cell_type": "code",
   "execution_count": null,
   "id": "eb25dc74",
   "metadata": {
    "ExecuteTime": {
     "end_time": "2021-09-19T14:30:03.598770Z",
     "start_time": "2021-09-19T14:30:03.598759Z"
    }
   },
   "outputs": [],
   "source": [
    "transfers = transfers[ transfers[\"to_address\"].apply(sent_to_another_my_account) | transfers[\"from_address\"].apply(sent_to_another_my_account)]"
   ]
  },
  {
   "cell_type": "code",
   "execution_count": null,
   "id": "898ad1fe",
   "metadata": {
    "ExecuteTime": {
     "end_time": "2021-09-19T14:30:03.600521Z",
     "start_time": "2021-09-19T14:30:03.600510Z"
    }
   },
   "outputs": [],
   "source": [
    "transfers[\"block_signed_at\"]=transfers[\"block_signed_at\"].apply(lambda x:datetime.fromisoformat(x.replace(\"Z\",\"+00:00\")))"
   ]
  },
  {
   "cell_type": "code",
   "execution_count": null,
   "id": "9de4f35c",
   "metadata": {
    "ExecuteTime": {
     "end_time": "2021-09-19T14:30:03.601689Z",
     "start_time": "2021-09-19T14:30:03.601679Z"
    }
   },
   "outputs": [],
   "source": [
    "transfers[\"time_ago\"]=(datetime.now(tz=pytz.utc) - transfers[\"block_signed_at\"])"
   ]
  },
  {
   "cell_type": "code",
   "execution_count": null,
   "id": "2d744d1d",
   "metadata": {
    "ExecuteTime": {
     "end_time": "2021-09-19T14:30:03.602601Z",
     "start_time": "2021-09-19T14:30:03.602592Z"
    }
   },
   "outputs": [],
   "source": [
    "transfers[\"desired_mark_exchange\"]=\"FTX\"\n",
    "transfers[\"desired_mark_type\"]=\"SPOT\"\n",
    "transfers[\"timestamp\"]=transfers[\"block_signed_at\"].apply(lambda x:datetime.timestamp(x)).astype(int)\n",
    "transfers[MARK_RETURN_COLS]=pd_get_mark(transfers,mark_symbol_col=\"symbol\",mark_after_time_col=\"timestamp\")"
   ]
  },
  {
   "cell_type": "code",
   "execution_count": null,
   "id": "c00bb54d",
   "metadata": {
    "ExecuteTime": {
     "end_time": "2021-09-19T14:30:03.603453Z",
     "start_time": "2021-09-19T14:30:03.603441Z"
    }
   },
   "outputs": [],
   "source": [
    "def get_dir(x):   \n",
    "    if ADDRESS.lower()==x[\"from_address\"].lower():\n",
    "        return \"outgoing\"\n",
    "    elif ADDRESS.lower()==x[\"to_address\"].lower():\n",
    "        return \"incoming\"    \n",
    "    else:\n",
    "        raise ValueError(\"unknown direction\") \n",
    "transfers[\"direction\"]=transfers.apply(get_dir,axis=1)"
   ]
  },
  {
   "cell_type": "code",
   "execution_count": null,
   "id": "7003e211",
   "metadata": {
    "ExecuteTime": {
     "end_time": "2021-09-19T14:30:03.604439Z",
     "start_time": "2021-09-19T14:30:03.604429Z"
    }
   },
   "outputs": [],
   "source": [
    "#CR drosen- find a way to get eth price in here\n",
    "transfers[\"amount\"]=pd.to_numeric(transfers[\"amount\"],errors=\"coerce\")\n",
    "transfers[\"mark\"]=pd.to_numeric(transfers[\"mark\"],errors=\"raise\")\n",
    "sent = (transfers[\"direction\"]==\"outgoing\")\n",
    "transfers.loc[sent,\"amount\"]=transfers.loc[sent,\"amount\"]*-1\n",
    "transfers[\"usd_amount\"]=transfers[\"amount\"]*transfers[\"mark\"]\n",
    "transfers[\"usd_amount\"]=pd.to_numeric(transfers[\"usd_amount\"],errors=\"raise\") #Want to be alerted"
   ]
  },
  {
   "cell_type": "code",
   "execution_count": null,
   "id": "1a726940",
   "metadata": {
    "ExecuteTime": {
     "end_time": "2021-09-19T14:30:03.605384Z",
     "start_time": "2021-09-19T14:30:03.605375Z"
    }
   },
   "outputs": [],
   "source": [
    "transfers=transfers.drop(['block_signed_at','tx_hash', 'tx_offset', \n",
    "       'value', 'value_quote', 'gas_offered', 'gas_spent', 'gas_price',\n",
    "       'gas_quote', 'gas_quote_rate', \n",
    "       '_raw_log_topics_bytes_log_events', 'block_height_log_events',\n",
    "       'block_signed_at_log_events', 'log_offset_log_events',\n",
    "       'raw_log_data_log_events', 'raw_log_topics_log_events',\n",
    "       'sender_logo_url_log_events', 'sender_name_log_events',\n",
    "       'tx_hash_log_events', 'tx_offset_log_events', '0_decoded_log_events',\n",
    "       'name_decoded_log_events', 'params_decoded_log_events',\n",
    "       'signature_decoded_log_events'],axis=1)"
   ]
  },
  {
   "cell_type": "code",
   "execution_count": null,
   "id": "18f24b68",
   "metadata": {
    "ExecuteTime": {
     "end_time": "2021-09-19T14:30:03.606195Z",
     "start_time": "2021-09-19T14:30:03.606176Z"
    }
   },
   "outputs": [],
   "source": [
    "transfers[\"time\"]=transfers[\"timestamp\"].apply(datetime.fromtimestamp)"
   ]
  },
  {
   "cell_type": "code",
   "execution_count": null,
   "id": "53786144",
   "metadata": {
    "ExecuteTime": {
     "end_time": "2021-09-19T14:30:03.606958Z",
     "start_time": "2021-09-19T14:30:03.606946Z"
    }
   },
   "outputs": [],
   "source": [
    "display_df(transfers)"
   ]
  },
  {
   "cell_type": "markdown",
   "id": "0a0b72cc",
   "metadata": {},
   "source": [
    "## Taking out avalanche bridge transactions"
   ]
  },
  {
   "cell_type": "markdown",
   "id": "1447bd39",
   "metadata": {
    "heading_collapsed": true
   },
   "source": [
    "## Need support for xdai (currently hacked number)"
   ]
  },
  {
   "cell_type": "markdown",
   "id": "6a7167b4",
   "metadata": {
    "hidden": true
   },
   "source": [
    "pd.DataFrame(get_http(f\"https://blockscout.com/xdai/mainnet/api?module=account&action=txlist&address={ADDRESS}\")['result'])"
   ]
  },
  {
   "cell_type": "code",
   "execution_count": null,
   "id": "6b8f1f3f",
   "metadata": {
    "ExecuteTime": {
     "end_time": "2021-09-19T14:30:03.607733Z",
     "start_time": "2021-09-19T14:30:03.607724Z"
    },
    "hidden": true
   },
   "outputs": [],
   "source": [
    "#This is the query of an account not going to do yet\n",
    "#https://blockscout.com/xdai/mainnet/api?module=account&action=tokentx&address=0xd3B55Edfe8b9Ddb896F487b7434e6bD37a7526F4"
   ]
  },
  {
   "cell_type": "markdown",
   "id": "04e6d906",
   "metadata": {},
   "source": [
    "## Calculate Dollar days"
   ]
  },
  {
   "cell_type": "code",
   "execution_count": null,
   "id": "ba748128",
   "metadata": {
    "ExecuteTime": {
     "end_time": "2021-09-19T14:30:03.608625Z",
     "start_time": "2021-09-19T14:30:03.608615Z"
    }
   },
   "outputs": [],
   "source": [
    "amount_brought_in=transfers['usd_amount'].sum() + think_about_after(adj)"
   ]
  },
  {
   "cell_type": "code",
   "execution_count": null,
   "id": "9e98dc63",
   "metadata": {
    "ExecuteTime": {
     "end_time": "2021-09-19T14:30:03.609489Z",
     "start_time": "2021-09-19T14:30:03.609479Z"
    }
   },
   "outputs": [],
   "source": [
    "dollar_days=(transfers[\"usd_amount\"]*transfers[\"time_ago\"].apply(lambda x:x.days)).sum()+think_about_after(0 if adj==0 else adj * (datetime.now()-adj_date).days)"
   ]
  },
  {
   "cell_type": "markdown",
   "id": "cccda8d6",
   "metadata": {
    "heading_collapsed": true
   },
   "source": [
    "## Calculate position pnl to do(would like to denoise pnl to when we're winning to just position)"
   ]
  },
  {
   "cell_type": "markdown",
   "id": "a491553a",
   "metadata": {
    "hidden": true
   },
   "source": [
    "%run Ticks.ipynb"
   ]
  },
  {
   "cell_type": "markdown",
   "id": "cbb240fd",
   "metadata": {
    "hidden": true
   },
   "source": [
    "addresses=\",\".join(transactions[\"address\"].unique())\n",
    "price_now=get_http(f'https://api.coingecko.com/api/v3/simple/token_price/ethereum?contract_addresses={addresses}&vs_currencies=usd')\n",
    "def get_price_now(x):\n",
    "    try:\n",
    "        return price_now[x]['usd']\n",
    "    except:\n",
    "        pass\n",
    "transactions[\"price_now\"]=transactions[\"address\"].apply(get_price_now)"
   ]
  },
  {
   "cell_type": "markdown",
   "id": "d3521cde",
   "metadata": {
    "hidden": true
   },
   "source": [
    "transactions[\"position_pnl\"]=transactions[\"amount\"]*(pd.to_numeric(transactions[\"price_now\"],errors=\"coerce\")-[\"price\"])"
   ]
  },
  {
   "cell_type": "markdown",
   "id": "d443e468",
   "metadata": {
    "hidden": true
   },
   "source": [
    "transactions[\"price_now\"]=transactions.apply(lambda x:http.get(f'https://api.coingecko.com/api/v3/simple/token_price/ethereum?contract_addresses={x[\"address\"]}&vs_currencies=usd)'),axis=1)"
   ]
  },
  {
   "cell_type": "markdown",
   "id": "1f7947a0",
   "metadata": {
    "hidden": true
   },
   "source": [
    "transactions[\"price_now\"].apply(lambda x:x.json()).iloc[0]"
   ]
  },
  {
   "cell_type": "markdown",
   "id": "5f1bd156",
   "metadata": {
    "hidden": true
   },
   "source": [
    "'https://api.coingecko.com/api/v3/simple/token_price/ethereum?contract_addresses=0x7fc66500c84a76ad7e9c93437bfc5ac33e2ddae9&vs_currencies=usd"
   ]
  },
  {
   "cell_type": "markdown",
   "id": "9ffb5383",
   "metadata": {
    "hidden": true
   },
   "source": []
  },
  {
   "cell_type": "markdown",
   "id": "ae394607",
   "metadata": {},
   "source": [
    "# Adding in missing from debank"
   ]
  },
  {
   "cell_type": "markdown",
   "id": "f3620645",
   "metadata": {},
   "source": [
    "## Pulling in debank erc20s"
   ]
  },
  {
   "cell_type": "code",
   "execution_count": null,
   "id": "2f7f0aef",
   "metadata": {
    "ExecuteTime": {
     "end_time": "2021-09-19T14:30:03.610477Z",
     "start_time": "2021-09-19T14:30:03.610467Z"
    }
   },
   "outputs": [],
   "source": [
    "debank=pd.DataFrame([])\n",
    "for chain in DEBANK_CHAINS:\n",
    "    chain_asset=pd.DataFrame(get_http(f\"https://openapi.debank.com/v1/user/token_list?id={ADDRESS}&chain_id={chain}&is_all=true\"))\n",
    "    try:\n",
    "        print(chain_asset[\"errors\"])\n",
    "    except:\n",
    "        debank=pd.concat([debank,chain_asset])"
   ]
  },
  {
   "cell_type": "code",
   "execution_count": null,
   "id": "f9158689",
   "metadata": {
    "ExecuteTime": {
     "end_time": "2021-09-19T14:30:03.611397Z",
     "start_time": "2021-09-19T14:30:03.611387Z"
    }
   },
   "outputs": [],
   "source": [
    "debank[\"type\"]=\"debank auto\"\n",
    "debank[\"category\"]=\"debank auto\""
   ]
  },
  {
   "cell_type": "markdown",
   "id": "ce7040a0",
   "metadata": {},
   "source": [
    "\n",
    "## Fixing matic token amounts"
   ]
  },
  {
   "cell_type": "code",
   "execution_count": null,
   "id": "33081402",
   "metadata": {
    "ExecuteTime": {
     "end_time": "2021-09-19T14:30:03.612318Z",
     "start_time": "2021-09-19T14:30:03.612309Z"
    }
   },
   "outputs": [],
   "source": [
    "zapper_missing=[\"miMatic\"]\n",
    "for protocol in [\"matic_polycat\",\"matic_dinoswap\",\"matic_adamant\",\"avax_traderjoexyz\"]:#,\"avax_traderjoexyz\",\"avax_benqi\"]:\n",
    "    portfolio_items=get_http(f\"https://openapi.debank.com/v1/user/protocol?id={ADDRESS}&protocol_id={protocol}\")[\"portfolio_item_list\"]\n",
    "    for i in portfolio_items:\n",
    "        item=i[\"detail\"]        \n",
    "        try:            \n",
    "            to_loop=item[\"supply_token_list\"]\n",
    "        except:\n",
    "            to_loop=item[\"token_list\"]            \n",
    "        if (protocol!=\"avax_traderjoexyz\")| (to_loop[0][\"symbol\"] in zapper_missing):\n",
    "            for addition in to_loop:\n",
    "                addition[\"type\"]=\"debank manual\"\n",
    "                addition[\"category\"]=f\"{protocol}\"\n",
    "                debank=debank.append(addition,ignore_index=True)"
   ]
  },
  {
   "cell_type": "markdown",
   "id": "0f9a58fa",
   "metadata": {},
   "source": [
    "for protocol in [\"matic_polycat\",\"matic_dinoswap\",\"avax_traderjoexyz\",\"avax_benqi\"]:\n",
    "    portfolio_items=get_http(f\"https://openapi.debank.com/v1/user/protocol?id={ADDRESS}&protocol_id={protocol}\")[\"portfolio_item_list\"]\n",
    "    for i in portfolio_items:\n",
    "        item=i[\"detail\"]        \n",
    "        to_add={}\n",
    "        for addition in item[list(item.keys())[0]]:\n",
    "            addition[\"type\"]=\"debank manual\"\n",
    "            addition[\"category\"]=f\"{protocol}\"\n",
    "            debank=debank.append(addition,ignore_index=True)"
   ]
  },
  {
   "cell_type": "markdown",
   "id": "1dcaa5d3",
   "metadata": {},
   "source": [
    "## Perps"
   ]
  },
  {
   "cell_type": "code",
   "execution_count": null,
   "id": "7d05339b",
   "metadata": {
    "ExecuteTime": {
     "end_time": "2021-09-19T14:30:03.613265Z",
     "start_time": "2021-09-19T14:30:03.613253Z"
    }
   },
   "outputs": [],
   "source": [
    "for protocol in [\"perpetual\"]:\n",
    "    portfolio_items=get_http(f\"https://openapi.debank.com/v1/user/protocol?id={ADDRESS}&protocol_id={protocol}\")[\"portfolio_item_list\"]\n",
    "    for i in portfolio_items:\n",
    "        item=i[\"detail\"]        \n",
    "        to_add={}\n",
    "        to_add[\"margin\"]= item[\"margin_token\"] #Our collateral held on perpetual\n",
    "        to_add[\"position\"]= item[\"position_token\"] #We add in the positions exposure, but then add an offesting line to not add to account value\n",
    "        to_add[\"bookeeper\"]=item[\"margin_token\"].copy()\n",
    "        to_add[\"bookeeper\"][\"amount\"]=item[\"entry_price\"]*-1*to_add[\"position\"][\"amount\"] #The pnl\n",
    "        for name,addition in to_add.items():\n",
    "            addition[\"type\"]=\"debank manual\"\n",
    "            addition[\"category\"]=f\"{protocol} {name}\"\n",
    "            debank=debank.append(addition,ignore_index=True)"
   ]
  },
  {
   "cell_type": "markdown",
   "id": "c00ce5c5",
   "metadata": {},
   "source": [
    "## Merging and Renaming"
   ]
  },
  {
   "cell_type": "code",
   "execution_count": null,
   "id": "f63b9e3b",
   "metadata": {
    "ExecuteTime": {
     "end_time": "2021-09-19T14:30:03.614068Z",
     "start_time": "2021-09-19T14:30:03.614059Z"
    }
   },
   "outputs": [],
   "source": [
    "renaming={'id': 'address',\n",
    " 'name': 'label',\n",
    " 'logo_url': 'img',\n",
    " 'amount': 'balance'}"
   ]
  },
  {
   "cell_type": "code",
   "execution_count": null,
   "id": "e799ff99",
   "metadata": {
    "ExecuteTime": {
     "end_time": "2021-09-19T14:30:03.614858Z",
     "start_time": "2021-09-19T14:30:03.614849Z"
    }
   },
   "outputs": [],
   "source": [
    "debank_custom_ids=[\"0x130966628846bfd36ff31a822705796e8cb8c18d\",\"0x781655d802670bba3c89aebaaea59d3182fd755d\"]"
   ]
  },
  {
   "cell_type": "code",
   "execution_count": null,
   "id": "116b8d70",
   "metadata": {
    "ExecuteTime": {
     "end_time": "2021-09-19T14:30:03.615759Z",
     "start_time": "2021-09-19T14:30:03.615749Z"
    }
   },
   "outputs": [],
   "source": [
    "df=df.append(debank[(debank[\"type\"]==\"debank manual\")|(debank[\"chain\"]==\"xdai\")|(debank[\"id\"].isin(debank_custom_ids))].rename(renaming,axis=1)) #Our debank manual adjustments, as well as the xdai willd ef need to be added"
   ]
  },
  {
   "cell_type": "code",
   "execution_count": null,
   "id": "5ba6c513",
   "metadata": {
    "ExecuteTime": {
     "end_time": "2021-09-19T14:30:03.616607Z",
     "start_time": "2021-09-19T14:30:03.616597Z"
    }
   },
   "outputs": [],
   "source": [
    "def override_price(symbol,auto_price):\n",
    "    try:\n",
    "        return OVERRIDE_MARKS[symbol]\n",
    "    except:\n",
    "        return auto_price\n",
    "    "
   ]
  },
  {
   "cell_type": "code",
   "execution_count": null,
   "id": "a348afac",
   "metadata": {
    "ExecuteTime": {
     "end_time": "2021-09-19T14:30:03.617610Z",
     "start_time": "2021-09-19T14:30:03.617600Z"
    }
   },
   "outputs": [],
   "source": [
    "#Flagging if Debank adding anything above a threshold\n",
    "only_in_debank=[a for a in debank[\"id\"].unique() if a not in df[\"address\"].unique() and a[:2]==\"0x\"] #debank doesn't have address for \"chain\" asset like matic xdai eth etc, so only look at things with \"0x\" address\n",
    "only_in_debank = debank.loc[debank[\"id\"].apply(lambda x:x in only_in_debank),:].copy()\n",
    "if only_in_debank.shape[0]>0:\n",
    "    only_in_debank[\"price\"]=only_in_debank.apply(lambda x:override_price(x[\"symbol\"],x[\"price\"]),axis=1)\n",
    "    assert (only_in_debank[\"price\"]*only_in_debank[\"amount\"]).sum()<FLAG_IF_DEBANK_ADDING_MORE_THAN_TO_ZAPPER"
   ]
  },
  {
   "cell_type": "markdown",
   "id": "0166f898",
   "metadata": {},
   "source": [
    "# Adding in things that neither zapper/debank have"
   ]
  },
  {
   "cell_type": "markdown",
   "id": "59605cd9",
   "metadata": {},
   "source": [
    "## dYdX"
   ]
  },
  {
   "cell_type": "code",
   "execution_count": null,
   "id": "2de67512",
   "metadata": {
    "ExecuteTime": {
     "end_time": "2021-09-19T14:30:03.618680Z",
     "start_time": "2021-09-19T14:30:03.618670Z"
    }
   },
   "outputs": [],
   "source": [
    "if ADDRESS.lower() in STARK_PASS.keys():\n",
    "    client = Client(\n",
    "        host='https://api.dydx.exchange',\n",
    "        default_ethereum_address=ADDRESS.lower,\n",
    "        api_key_credentials=STARK_PASS[ADDRESS.lower()],\n",
    "        api_timeout=30000\n",
    "    ) \n",
    "    def get_accounts(_):\n",
    "        return client.private.get_accounts()[\"accounts\"]\n",
    "    dydx_info = call_fun_with_retries(get_accounts,None,first_sleep_count=70,retries=2)\n",
    "    assert len(dydx_info)==1#assuming only one account\n",
    "    dydx_info=dydx_info[0]\n",
    "    dydx_rewards=0\n",
    "    for epoch in [1]:\n",
    "        dydx_rewards += float(client.private.get_trading_rewards(epoch=epoch)[\"estimatedRewards\"])\n",
    "    dydx_positions=client.private.get_positions()[\"positions\"]\n",
    "    balance=float(dydx_info[\"equity\"])\n",
    "    #CR DROSEN: should position be filled in Here\n",
    "    dydx_price= cg.get_price([\"dydx\"],vs_currencies=\"usd\")['dydx']['usd']\n",
    "    df=df.append(pd.Series({\"type\":\"perpetual\",\"category\":\"collateral\",\"address\":\"Unknown\",\"symbol\":\"USDC\",\"label\":\"USDC\",\"price\":1,\"balance\":balance,\"balanceUSD\":balance,\"protocol\":\"dYdX\",\"chain\":None}),ignore_index=True)   \n",
    "    df=df.append(pd.Series({\"type\":\"perpetual\",\"category\":\"trading rewards\",\"address\":\"Unknown\",\"symbol\":\"DYDX\",\"label\":\"DYDX\",\"price\":dydx_price,\"balance\":dydx_rewards,\"balanceUSD\":dydx_rewards,\"protocol\":\"dYdX\",\"chain\":None}),ignore_index=True)       \n",
    "    for pos in dydx_positions:\n",
    "        pos[\"size\"]=float(pos[\"size\"])\n",
    "        price=float(client.public.get_markets(market=pos[\"market\"])['markets'][pos[\"market\"]][\"indexPrice\"])\n",
    "        value = pos[\"size\"]*price\n",
    "        neg_val = (-1) * value\n",
    "        position = pd.Series({\"type\":\"perpetual\",\"category\":\"position\",\"address\":\"Unknown\",\"symbol\":pos[\"market\"].replace(\"-USD\",\"\"),\"label\":\"DYDX\",\"price\":price,\"balance\":pos[\"size\"],\"balanceUSD\":pos[\"size\"]*price,\"protocol\":\"dYdX\",\"chain\":None})\n",
    "        bookeeper = pd.Series({\"type\":\"perpetual\",\"category\":\"bookeeper\",\"address\":\"Unknown\",'symbol':\"USDC\",\"label\":\"DYDX\",\"price\":1,\"size\":neg_val,\"balance\":neg_val,\"balanceUSD\":neg_val,\"protocol\":\"dYdX\",\"chain\":None})\n",
    "        for item in [position,bookeeper]:\n",
    "            df= df.append(item,ignore_index=True)"
   ]
  },
  {
   "cell_type": "markdown",
   "id": "29164d64",
   "metadata": {},
   "source": [
    "# Fixing prices"
   ]
  },
  {
   "cell_type": "code",
   "execution_count": null,
   "id": "c72bc4d1",
   "metadata": {
    "ExecuteTime": {
     "end_time": "2021-09-19T14:30:03.619301Z",
     "start_time": "2021-09-19T14:30:03.619291Z"
    }
   },
   "outputs": [],
   "source": [
    "df[\"price\"]=df.apply(lambda x:override_price(x[\"symbol\"],x[\"price\"]),axis=1)"
   ]
  },
  {
   "cell_type": "markdown",
   "id": "d541be2e",
   "metadata": {},
   "source": [
    "# Formatting"
   ]
  },
  {
   "cell_type": "code",
   "execution_count": null,
   "id": "8f217a05",
   "metadata": {
    "ExecuteTime": {
     "end_time": "2021-09-19T14:30:03.620221Z",
     "start_time": "2021-09-19T14:30:03.620205Z"
    }
   },
   "outputs": [],
   "source": [
    "df[\"mkt_cap\"]=df[\"balance\"]*df[\"price\"]\n",
    "df[\"mkt_cap\"]=df[\"mkt_cap\"].fillna(df[\"balanceUSD\"]) # don't know if we nee dthis"
   ]
  },
  {
   "cell_type": "code",
   "execution_count": null,
   "id": "6cf8246a",
   "metadata": {
    "ExecuteTime": {
     "end_time": "2021-09-19T14:30:03.621326Z",
     "start_time": "2021-09-19T14:30:03.621310Z"
    }
   },
   "outputs": [],
   "source": [
    "def drop_cols(df):\n",
    "    drop_cols=['pricePerShare','liquidity',\"value\",\"contractAddress\",\"tokenAddress\",\"vaultToken\",\"supply\",\"rewardAddress\",\"valueLockedUSD\",\"isActive\",'stakingStrategy','farmName',\"exchangeAddress\",\"volume\",\"volumeChangePercentage\",\"volliq\",\"supply\",\"price0\",\"price1\",\"isBlocked\",\"fee\",\"feeVolume\",\"share\",\"reserve\",\"reserveUSD\",\"supplyApy\",\"borrowApy\",\"img\",\"protocolDisplay\",\"protocolSymbol\",\"tokens\",\"balanceRaw\",\"decimals\",\"hide\",\"canExchange\",\"liquidationThreshold\",\"enabledAsCollateral\",\"display_symbol\",\"optimized_symbol\",\"is_verified\",\"is_core\",\"is_wallet\",\"time_at\",\"polyscan_input\",'dailyROI', 'weeklyROI', 'yearlyROI', 'poolIndex']\n",
    "    for col in drop_cols:\n",
    "        try:\n",
    "            df=df.drop(col,axis=1)\n",
    "        except:\n",
    "            pass\n",
    "    df=df.reset_index(drop=True)\n",
    "    return df\n",
    "df=drop_cols(df)"
   ]
  },
  {
   "cell_type": "markdown",
   "id": "2d25a377",
   "metadata": {},
   "source": [
    "# Output"
   ]
  },
  {
   "cell_type": "markdown",
   "id": "d733f2f9",
   "metadata": {},
   "source": [
    "## Raw"
   ]
  },
  {
   "cell_type": "code",
   "execution_count": null,
   "id": "dd4c4998",
   "metadata": {
    "ExecuteTime": {
     "end_time": "2021-09-19T14:30:03.622471Z",
     "start_time": "2021-09-19T14:30:03.622458Z"
    }
   },
   "outputs": [],
   "source": [
    "display_df(df,show_toolbar=True)"
   ]
  },
  {
   "cell_type": "markdown",
   "id": "0d5a6a53",
   "metadata": {},
   "source": [
    "## Deltas"
   ]
  },
  {
   "cell_type": "code",
   "execution_count": null,
   "id": "8ebb02c1",
   "metadata": {
    "ExecuteTime": {
     "end_time": "2021-09-19T14:30:03.623145Z",
     "start_time": "2021-09-19T14:30:03.623136Z"
    }
   },
   "outputs": [],
   "source": [
    "df[\"symbol_concise\"]=df[\"symbol\"].apply(remove_defi_lending_prefixes) # From common\n",
    "deltas=sort_abs(df.groupby([\"symbol_concise\",\"address\"]).aggregate({\"price\":\"mean\",\"balance\":\"sum\",\"balanceUSD\":\"mean\",\"mkt_cap\":\"sum\"}),\"mkt_cap\")"
   ]
  },
  {
   "cell_type": "markdown",
   "id": "db65909e",
   "metadata": {
    "ExecuteTime": {
     "end_time": "2021-09-16T16:18:35.984001Z",
     "start_time": "2021-09-16T16:18:35.928162Z"
    }
   },
   "source": [
    "_format = \"%Y-%m-%d %T %Z\"\n",
    "for c in transfers.columns[[str(t)==\"datetime64[ns, UTC]\" for t in transfers.dtypes]]:\n",
    "    #print(transfers[c].apply(lambda x:datetime.strftime(x,_format),_format))\n",
    "    print(transfers[c].apply(lambda x:datetime.strptime(datetime.strftime(x,_format),_format)))"
   ]
  },
  {
   "cell_type": "code",
   "execution_count": null,
   "id": "3ffc8f7a",
   "metadata": {
    "ExecuteTime": {
     "end_time": "2021-09-19T14:30:03.624045Z",
     "start_time": "2021-09-19T14:30:03.624036Z"
    }
   },
   "outputs": [],
   "source": [
    "#display_df(transfers,show_toolbar=True)"
   ]
  },
  {
   "cell_type": "markdown",
   "id": "5e226231",
   "metadata": {},
   "source": [
    "## Stats"
   ]
  },
  {
   "cell_type": "code",
   "execution_count": null,
   "id": "e099ccfb",
   "metadata": {
    "ExecuteTime": {
     "end_time": "2021-09-19T14:30:03.624903Z",
     "start_time": "2021-09-19T14:30:03.624893Z"
    }
   },
   "outputs": [],
   "source": [
    "value=(df[\"mkt_cap\"]).sum()\n",
    "gain=(value - amount_brought_in+unincluded_rewards)\n",
    "return_ = gain/amount_brought_in\n",
    "return_annualized=(1+gain/dollar_days)**(365)-1\n",
    "tmp={}\n",
    "for item in [\"amount_brought_in\",\"gain\",\"return_\",\"return_annualized\"]:\n",
    "    if not DO_NOT_PRINT:\n",
    "        print (f\"{item}:      {eval(item).round(3)}\")"
   ]
  },
  {
   "cell_type": "code",
   "execution_count": null,
   "id": "5818f319",
   "metadata": {},
   "outputs": [],
   "source": []
  }
 ],
 "metadata": {
  "hide_input": false,
  "kernelspec": {
   "display_name": "jupyter-env",
   "language": "python",
   "name": "jupyter-env"
  },
  "language_info": {
   "codemirror_mode": {
    "name": "ipython",
    "version": 3
   },
   "file_extension": ".py",
   "mimetype": "text/x-python",
   "name": "python",
   "nbconvert_exporter": "python",
   "pygments_lexer": "ipython3",
   "version": "3.8.10"
  },
  "toc": {
   "base_numbering": 1,
   "nav_menu": {},
   "number_sections": true,
   "sideBar": true,
   "skip_h1_title": false,
   "title_cell": "Table of Contents",
   "title_sidebar": "Contents",
   "toc_cell": true,
   "toc_position": {},
   "toc_section_display": true,
   "toc_window_display": false
  },
  "varInspector": {
   "cols": {
    "lenName": 16,
    "lenType": 16,
    "lenVar": 40
   },
   "kernels_config": {
    "python": {
     "delete_cmd_postfix": "",
     "delete_cmd_prefix": "del ",
     "library": "var_list.py",
     "varRefreshCmd": "print(var_dic_list())"
    },
    "r": {
     "delete_cmd_postfix": ") ",
     "delete_cmd_prefix": "rm(",
     "library": "var_list.r",
     "varRefreshCmd": "cat(var_dic_list()) "
    }
   },
   "types_to_exclude": [
    "module",
    "function",
    "builtin_function_or_method",
    "instance",
    "_Feature"
   ],
   "window_display": false
  }
 },
 "nbformat": 4,
 "nbformat_minor": 5
}
