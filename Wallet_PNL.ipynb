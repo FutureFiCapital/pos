{
 "cells": [
  {
   "cell_type": "markdown",
   "id": "2b470850",
   "metadata": {
    "toc": true
   },
   "source": [
    "<h1>Table of Contents<span class=\"tocSkip\"></span></h1>\n",
    "<div class=\"toc\"><ul class=\"toc-item\"></ul></div>"
   ]
  },
  {
   "cell_type": "code",
   "execution_count": 1,
   "id": "cb3fe415",
   "metadata": {
    "ExecuteTime": {
     "end_time": "2021-09-19T14:30:02.682781Z",
     "start_time": "2021-09-19T14:29:59.492206Z"
    }
   },
   "outputs": [
    {
     "data": {
      "application/javascript": [
       "require(\"notebook/js/notebook\").Notebook.prototype.scroll_to_bottom = function () {}\n"
      ],
      "text/plain": [
       "<IPython.core.display.Javascript object>"
      ]
     },
     "metadata": {},
     "output_type": "display_data"
    }
   ],
   "source": [
    "%run \"./Common.ipynb\""
   ]
  },
  {
   "cell_type": "markdown",
   "id": "68197826",
   "metadata": {
    "toc": true
   },
   "source": [
    "<h1>Table of Contents<span class=\"tocSkip\"></span></h1>\n",
    "<div class=\"toc\"><ul class=\"toc-item\"><li><span><a href=\"#Config\" data-toc-modified-id=\"Config-1\"><span class=\"toc-item-num\">1&nbsp;&nbsp;</span>Config</a></span><ul class=\"toc-item\"><li><span><a href=\"#Hide-widget\" data-toc-modified-id=\"Hide-widget-1.1\"><span class=\"toc-item-num\">1.1&nbsp;&nbsp;</span>Hide widget</a></span></li><li><span><a href=\"#Rest\" data-toc-modified-id=\"Rest-1.2\"><span class=\"toc-item-num\">1.2&nbsp;&nbsp;</span>Rest</a></span></li></ul></li><li><span><a href=\"#Constants\" data-toc-modified-id=\"Constants-2\"><span class=\"toc-item-num\">2&nbsp;&nbsp;</span>Constants</a></span></li><li><span><a href=\"#Zapper-positions\" data-toc-modified-id=\"Zapper-positions-3\"><span class=\"toc-item-num\">3&nbsp;&nbsp;</span>Zapper positions</a></span><ul class=\"toc-item\"><li><span><a href=\"#Looping-through-protocols-(gets-you-claimable-tokens-but-not-staked)\" data-toc-modified-id=\"Looping-through-protocols-(gets-you-claimable-tokens-but-not-staked)-3.1\"><span class=\"toc-item-num\">3.1&nbsp;&nbsp;</span>Looping through protocols (gets you claimable tokens but not staked)</a></span></li><li><span><a href=\"#Adding-erc20s-not-in-a-specific-protocol\" data-toc-modified-id=\"Adding-erc20s-not-in-a-specific-protocol-3.2\"><span class=\"toc-item-num\">3.2&nbsp;&nbsp;</span>Adding erc20s not in a specific protocol</a></span></li><li><span><a href=\"#Getting-Zapper-Staked-and-Staking-rewards\" data-toc-modified-id=\"Getting-Zapper-Staked-and-Staking-rewards-3.3\"><span class=\"toc-item-num\">3.3&nbsp;&nbsp;</span>Getting Zapper Staked and Staking rewards</a></span></li></ul></li><li><span><a href=\"#Transactions\" data-toc-modified-id=\"Transactions-4\"><span class=\"toc-item-num\">4&nbsp;&nbsp;</span>Transactions</a></span><ul class=\"toc-item\"><li><span><a href=\"#Unused-code\" data-toc-modified-id=\"Unused-code-4.1\"><span class=\"toc-item-num\">4.1&nbsp;&nbsp;</span>Unused code</a></span><ul class=\"toc-item\"><li><span><a href=\"#Getting-Transaction-History\" data-toc-modified-id=\"Getting-Transaction-History-4.1.1\"><span class=\"toc-item-num\">4.1.1&nbsp;&nbsp;</span>Getting Transaction History</a></span></li><li><span><a href=\"#Adding-in-polygon\" data-toc-modified-id=\"Adding-in-polygon-4.1.2\"><span class=\"toc-item-num\">4.1.2&nbsp;&nbsp;</span>Adding in polygon</a></span></li></ul></li><li><span><a href=\"#Transaction-history\" data-toc-modified-id=\"Transaction-history-4.2\"><span class=\"toc-item-num\">4.2&nbsp;&nbsp;</span>Transaction history</a></span></li><li><span><a href=\"#Taking-out-avalanche-bridge-transactions\" data-toc-modified-id=\"Taking-out-avalanche-bridge-transactions-4.3\"><span class=\"toc-item-num\">4.3&nbsp;&nbsp;</span>Taking out avalanche bridge transactions</a></span></li><li><span><a href=\"#Need-support-for-xdai-(currently-hacked-number)\" data-toc-modified-id=\"Need-support-for-xdai-(currently-hacked-number)-4.4\"><span class=\"toc-item-num\">4.4&nbsp;&nbsp;</span>Need support for xdai (currently hacked number)</a></span></li><li><span><a href=\"#Calculate-Dollar-days\" data-toc-modified-id=\"Calculate-Dollar-days-4.5\"><span class=\"toc-item-num\">4.5&nbsp;&nbsp;</span>Calculate Dollar days</a></span></li><li><span><a href=\"#Calculate-position-pnl-to-do(would-like-to-denoise-pnl-to-when-we're-winning-to-just-position)\" data-toc-modified-id=\"Calculate-position-pnl-to-do(would-like-to-denoise-pnl-to-when-we're-winning-to-just-position)-4.6\"><span class=\"toc-item-num\">4.6&nbsp;&nbsp;</span>Calculate position pnl to do(would like to denoise pnl to when we're winning to just position)</a></span></li></ul></li><li><span><a href=\"#Adding-in-missing-from-debank\" data-toc-modified-id=\"Adding-in-missing-from-debank-5\"><span class=\"toc-item-num\">5&nbsp;&nbsp;</span>Adding in missing from debank</a></span><ul class=\"toc-item\"><li><span><a href=\"#Pulling-in-debank-erc20s\" data-toc-modified-id=\"Pulling-in-debank-erc20s-5.1\"><span class=\"toc-item-num\">5.1&nbsp;&nbsp;</span>Pulling in debank erc20s</a></span></li><li><span><a href=\"#Fixing-matic-token-amounts\" data-toc-modified-id=\"Fixing-matic-token-amounts-5.2\"><span class=\"toc-item-num\">5.2&nbsp;&nbsp;</span>Fixing matic token amounts</a></span></li><li><span><a href=\"#Perps\" data-toc-modified-id=\"Perps-5.3\"><span class=\"toc-item-num\">5.3&nbsp;&nbsp;</span>Perps</a></span></li><li><span><a href=\"#Merging-and-Renaming\" data-toc-modified-id=\"Merging-and-Renaming-5.4\"><span class=\"toc-item-num\">5.4&nbsp;&nbsp;</span>Merging and Renaming</a></span></li></ul></li><li><span><a href=\"#Adding-in-things-that-neither-zapper/debank-have\" data-toc-modified-id=\"Adding-in-things-that-neither-zapper/debank-have-6\"><span class=\"toc-item-num\">6&nbsp;&nbsp;</span>Adding in things that neither zapper/debank have</a></span><ul class=\"toc-item\"><li><span><a href=\"#dYdX\" data-toc-modified-id=\"dYdX-6.1\"><span class=\"toc-item-num\">6.1&nbsp;&nbsp;</span>dYdX</a></span></li></ul></li><li><span><a href=\"#Fixing-prices\" data-toc-modified-id=\"Fixing-prices-7\"><span class=\"toc-item-num\">7&nbsp;&nbsp;</span>Fixing prices</a></span></li><li><span><a href=\"#Formatting\" data-toc-modified-id=\"Formatting-8\"><span class=\"toc-item-num\">8&nbsp;&nbsp;</span>Formatting</a></span></li><li><span><a href=\"#Output\" data-toc-modified-id=\"Output-9\"><span class=\"toc-item-num\">9&nbsp;&nbsp;</span>Output</a></span><ul class=\"toc-item\"><li><span><a href=\"#Raw\" data-toc-modified-id=\"Raw-9.1\"><span class=\"toc-item-num\">9.1&nbsp;&nbsp;</span>Raw</a></span></li><li><span><a href=\"#Deltas\" data-toc-modified-id=\"Deltas-9.2\"><span class=\"toc-item-num\">9.2&nbsp;&nbsp;</span>Deltas</a></span></li><li><span><a href=\"#Stats\" data-toc-modified-id=\"Stats-9.3\"><span class=\"toc-item-num\">9.3&nbsp;&nbsp;</span>Stats</a></span></li></ul></li></ul></div>"
   ]
  },
  {
   "cell_type": "code",
   "execution_count": 1,
   "id": "bc7470b1",
   "metadata": {
    "ExecuteTime": {
     "end_time": "2021-09-20T03:37:53.230403Z",
     "start_time": "2021-09-20T03:37:53.225896Z"
    }
   },
   "outputs": [
    {
     "name": "stdout",
     "output_type": "stream",
     "text": [
      "hey\n"
     ]
    }
   ],
   "source": [
    "print(\"hey\")"
   ]
  },
  {
   "cell_type": "code",
   "execution_count": null,
   "id": "5818f319",
   "metadata": {},
   "outputs": [],
   "source": []
  }
 ],
 "metadata": {
  "hide_input": false,
  "kernelspec": {
   "display_name": "jupyter-env",
   "language": "python",
   "name": "jupyter-env"
  },
  "language_info": {
   "codemirror_mode": {
    "name": "ipython",
    "version": 3
   },
   "file_extension": ".py",
   "mimetype": "text/x-python",
   "name": "python",
   "nbconvert_exporter": "python",
   "pygments_lexer": "ipython3",
   "version": "3.8.10"
  },
  "toc": {
   "base_numbering": 1,
   "nav_menu": {},
   "number_sections": true,
   "sideBar": true,
   "skip_h1_title": false,
   "title_cell": "Table of Contents",
   "title_sidebar": "Contents",
   "toc_cell": true,
   "toc_position": {},
   "toc_section_display": true,
   "toc_window_display": false
  },
  "varInspector": {
   "cols": {
    "lenName": 16,
    "lenType": 16,
    "lenVar": 40
   },
   "kernels_config": {
    "python": {
     "delete_cmd_postfix": "",
     "delete_cmd_prefix": "del ",
     "library": "var_list.py",
     "varRefreshCmd": "print(var_dic_list())"
    },
    "r": {
     "delete_cmd_postfix": ") ",
     "delete_cmd_prefix": "rm(",
     "library": "var_list.r",
     "varRefreshCmd": "cat(var_dic_list()) "
    }
   },
   "types_to_exclude": [
    "module",
    "function",
    "builtin_function_or_method",
    "instance",
    "_Feature"
   ],
   "window_display": false
  }
 },
 "nbformat": 4,
 "nbformat_minor": 5
}
